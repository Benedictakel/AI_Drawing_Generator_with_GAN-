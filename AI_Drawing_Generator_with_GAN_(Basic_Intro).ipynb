{
  "nbformat": 4,
  "nbformat_minor": 0,
  "metadata": {
    "colab": {
      "provenance": [],
      "authorship_tag": "ABX9TyO9sPTq7sAn492jFsMCwjgn"
    },
    "kernelspec": {
      "name": "python3",
      "display_name": "Python 3"
    },
    "language_info": {
      "name": "python"
    }
  },
  "cells": [
    {
      "cell_type": "code",
      "execution_count": null,
      "metadata": {
        "id": "0mSlBL2gskL8"
      },
      "outputs": [],
      "source": [
        "import numpy as np\n",
        "import matplotlib.pyplot as plt\n",
        "import tensorflow as tf\n",
        "import tensorflow_hub as hub\n"
      ]
    },
    {
      "cell_type": "code",
      "source": [
        "# Pretrained DCGAN on MNIST (handwritten digits)\n",
        "model_url = \"https://tfhub.dev/google/progan-128/1\"  # Example: change if unavailable\n",
        "\n",
        "# Load the GAN model\n",
        "gan = hub.load(model_url)\n"
      ],
      "metadata": {
        "id": "1EH8XHs9tpWj"
      },
      "execution_count": null,
      "outputs": []
    },
    {
      "cell_type": "code",
      "source": [
        "def generate_latent_vector(size=128):\n",
        "    return tf.random.normal([1, size])\n"
      ],
      "metadata": {
        "id": "dqD2opzOtu0f"
      },
      "execution_count": null,
      "outputs": []
    },
    {
      "cell_type": "code",
      "source": [
        "def show_generated_image():\n",
        "    z = generate_latent_vector()\n",
        "    generated_image = gan(z)  # Output: Tensor\n",
        "    image = generated_image[0].numpy().squeeze()\n",
        "\n",
        "    plt.imshow(image, cmap='gray')\n",
        "    plt.axis('off')\n",
        "    plt.title(\"Generated Image\")\n",
        "    plt.show()\n",
        "\n",
        "show_generated_image()\n"
      ],
      "metadata": {
        "id": "gMxuhalGt4sL"
      },
      "execution_count": null,
      "outputs": []
    }
  ]
}